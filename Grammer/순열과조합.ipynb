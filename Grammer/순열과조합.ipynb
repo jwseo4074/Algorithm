{
 "cells": [
  {
   "cell_type": "markdown",
   "id": "f14de587",
   "metadata": {},
   "source": [
    "# 순열과 조합\n",
    "---\n",
    "### 순열: permutations\n",
    "---"
   ]
  },
  {
   "cell_type": "code",
   "execution_count": 1,
   "id": "e750839f",
   "metadata": {},
   "outputs": [
    {
     "name": "stdout",
     "output_type": "stream",
     "text": [
      "[(1, 2), (1, 3), (1, 4), (2, 1), (2, 3), (2, 4), (3, 1), (3, 2), (3, 4), (4, 1), (4, 2), (4, 3)]\n"
     ]
    }
   ],
   "source": [
    "from itertools import permutations\n",
    "\n",
    "ret = []\n",
    "for i in permutations([1,2,3,4], 2):\n",
    "    ret.append(i)\n",
    "print(ret)\n",
    "\n",
    "def permutations_2(array, r):\n",
    "    for i in range(len(array)):\n",
    "        if r == 1:\n",
    "            yield [array[i]]\n",
    "        else:\n",
    "            for next in permutations_2(array[:i]+array[i+1:], r-1):\n",
    "                yield [array[i]] + next\n",
    "\n",
    "\n"
   ]
  },
  {
   "cell_type": "markdown",
   "id": "56323ee5",
   "metadata": {},
   "source": [
    "### 조합: combinations\n",
    "---"
   ]
  },
  {
   "cell_type": "code",
   "execution_count": 2,
   "id": "cfb6a309",
   "metadata": {},
   "outputs": [
    {
     "name": "stdout",
     "output_type": "stream",
     "text": [
      "[(1, 2), (1, 3), (1, 4), (2, 3), (2, 4), (3, 4)]\n"
     ]
    }
   ],
   "source": [
    "from itertools import combinations\n",
    "\n",
    "ret = []\n",
    "for i in combinations([1,2,3,4], 2):\n",
    "    ret.append(i)\n",
    "print(ret)\n",
    "\n",
    "def combinations_2(array, r):\n",
    "    for i in range(len(array)):\n",
    "        if r == 1: # 종료 조건\n",
    "            yield [array[i]]\n",
    "        else:\n",
    "            for next in combinations_2(array[i+1:], r-1):\n",
    "                yield [array[i]] + next\n",
    "\n",
    "\n"
   ]
  },
  {
   "cell_type": "markdown",
   "id": "118ae422",
   "metadata": {},
   "source": [
    "### 중복 순열: product\n",
    "---"
   ]
  },
  {
   "cell_type": "code",
   "execution_count": 9,
   "id": "6271f223",
   "metadata": {},
   "outputs": [
    {
     "name": "stdout",
     "output_type": "stream",
     "text": [
      "[(1, 'a'), (1, 'b'), (2, 'a'), (2, 'b'), (3, 'a'), (3, 'b')]\n",
      "[(1, 1), (1, 2), (1, 3), (2, 1), (2, 2), (2, 3), (3, 1), (3, 2), (3, 3)]\n",
      "[1, 1, 1]\n",
      "[1, 1, 2]\n",
      "[1, 1, 3]\n",
      "[1, 2, 1]\n",
      "[1, 2, 2]\n",
      "[1, 2, 3]\n",
      "[1, 3, 1]\n",
      "[1, 3, 2]\n",
      "[1, 3, 3]\n",
      "[2, 1, 1]\n",
      "[2, 1, 2]\n",
      "[2, 1, 3]\n",
      "[2, 2, 1]\n",
      "[2, 2, 2]\n",
      "[2, 2, 3]\n",
      "[2, 3, 1]\n",
      "[2, 3, 2]\n",
      "[2, 3, 3]\n",
      "[3, 1, 1]\n",
      "[3, 1, 2]\n",
      "[3, 1, 3]\n",
      "[3, 2, 1]\n",
      "[3, 2, 2]\n",
      "[3, 2, 3]\n",
      "[3, 3, 1]\n",
      "[3, 3, 2]\n",
      "[3, 3, 3]\n"
     ]
    }
   ],
   "source": [
    "from itertools import product\n",
    "\n",
    "ret = []\n",
    "for i in product([1,2,3],'ab'):\n",
    "    ret.append(i)\n",
    "print(ret)\n",
    "\n",
    "ret = []\n",
    "for i in product([1,2,3], repeat=2):\n",
    "    ret.append(i)\n",
    "print(ret)\n",
    "\n",
    "\n",
    "def product2(arr, r):\n",
    "    for i in range(len(arr)):\n",
    "        if r == 1:\n",
    "            yield [arr[i]]\n",
    "        else:\n",
    "            for n in product2(arr, r-1):\n",
    "                yield [arr[i]] + n\n",
    "\n",
    "for i in product2([1,2,3], 3):\n",
    "    print(i)\n"
   ]
  },
  {
   "cell_type": "markdown",
   "id": "e776af53",
   "metadata": {},
   "source": [
    "### 중복 조합: combinations_with_replacement"
   ]
  },
  {
   "cell_type": "code",
   "execution_count": 6,
   "id": "11e140e2",
   "metadata": {},
   "outputs": [
    {
     "name": "stdout",
     "output_type": "stream",
     "text": [
      "[(1, 1), (1, 2), (1, 3), (1, 4), (2, 2), (2, 3), (2, 4), (3, 3), (3, 4), (4, 4)]\n"
     ]
    }
   ],
   "source": [
    "from itertools import combinations_with_replacement\n",
    "\n",
    "ret = []\n",
    "for i in combinations_with_replacement([1,2,3,4], 2):\n",
    "    ret.append(i)\n",
    "print(ret)\n",
    "\n",
    "def combinations_3(array, r):\n",
    "    for i in range(len(array)):\n",
    "        if r == 1:\n",
    "            yield [array[i]]\n",
    "        else:\n",
    "            ## array[i+1: ] -> array[i: ] 변경\n",
    "            for next in combinations_3(array[i:], r-1):\n",
    "                yield [array[i]] + next\n"
   ]
  },
  {
   "cell_type": "code",
   "execution_count": null,
   "id": "85cbd5a4",
   "metadata": {},
   "outputs": [
    {
     "ename": "",
     "evalue": "",
     "output_type": "error",
     "traceback": [
      "\u001b[1;31mJupyter cannot be started. Error attempting to locate jupyter: Running cells with 'Python 3.9.12 64-bit' requires jupyter and notebook package.\n",
      "Run the following command to install 'jupyter and notebook' into the Python environment. \n",
      "Command: '/opt/homebrew/bin/python3 -m pip install jupyter notebook -U'"
     ]
    }
   ],
   "source": [
    "# 14889 번 문제\n",
    "# => 조합 활용\n",
    "\n",
    "N = int(input()) \n",
    "# 몇개의 팀?\n",
    "Nlist = [i for i in range(0,N)]\n",
    "\n",
    "from itertools import combinations  \n",
    "\n",
    "totalList = []\n",
    "combiList = list(combinations(Nlist, int(N/2)))\n",
    "\n",
    "for oneVal in combiList:\n",
    "    startTeam = list(oneVal)\n",
    "    linkTeam = [x for x in Nlist if x not in startTeam]\n",
    "    totalList.append([startTeam, linkTeam])"
   ]
  },
  {
   "cell_type": "markdown",
   "id": "6a96bb96",
   "metadata": {},
   "source": [
    "< 4를 입력할 경우 >\n",
    "\n",
    "4\n",
    "combiList => [(0, 1), (0, 2), (0, 3), (1, 2), (1, 3), (2, 3)] \n",
    "totalList => [\n",
    "    [\n",
    "        [0, 1], [2, 3]\n",
    "    ],\n",
    "    [\n",
    "        [0, 2], [1, 3]\n",
    "    ], [[0, 3], [1, 2]], [[1, 2], [0, 3]], [[1, 3], [0, 2]], [[2, 3], [0, 1]]]\n",
    "\n",
    "< 6을 입력할 경우 >\n",
    "\n",
    "6\n",
    "combiList => [(0, 1, 2), (0, 1, 3), (0, 1, 4), (0, 1, 5), (0, 2, 3), (0, 2, 4), (0, 2, 5), (0, 3, 4), (0, 3, 5), (0, 4, 5), (1, 2, 3), (1, 2, 4), (1, 2, 5), (1, 3, 4), (1, 3, 5), (1, 4, 5), (2, 3, 4), (2, 3, 5), (2, 4, 5), (3, 4, 5)]\n",
    "\n",
    "totalList => [\n",
    "    [\n",
    "        [0, 1, 2], [3, 4, 5]\n",
    "    ], \n",
    "    [\n",
    "        [0, 1, 3], [2, 4, 5]\n",
    "    ], \n",
    "    [\n",
    "        [0, 1, 4], [2, 3, 5]\n",
    "    ], \n",
    "    [\n",
    "        [0, 1, 5], [2, 3, 4]\n",
    "    ], \n",
    "    [\n",
    "        [0, 2, 3], [1, 4, 5]], [[0, 2, 4], [1, 3, 5]], [[0, 2, 5], [1, 3, 4]], [[0, 3, 4], [1, 2, 5]], [[0, 3, 5], [1, 2, 4]], [[0, 4, 5], [1, 2, 3]], [[1, 2, 3], [0, 4, 5]], [[1, 2, 4], [0, 3, 5]], [[1, 2, 5], [0, 3, 4]], [[1, 3, 4], [0, 2, 5]], [[1, 3, 5], [0, 2, 4]], [[1, 4, 5], [0, 2, 3]], [[2, 3, 4], [0, 1, 5]], [[2, 3, 5], [0, 1, 4]], [[2, 4, 5], [0, 1, 3]], [[3, 4, 5], [0, 1, 2]]]"
   ]
  }
 ],
 "metadata": {
  "kernelspec": {
   "display_name": "Python 3 (ipykernel)",
   "language": "python",
   "name": "python3"
  },
  "language_info": {
   "codemirror_mode": {
    "name": "ipython",
    "version": 3
   },
   "file_extension": ".py",
   "mimetype": "text/x-python",
   "name": "python",
   "nbconvert_exporter": "python",
   "pygments_lexer": "ipython3",
   "version": "3.9.12"
  }
 },
 "nbformat": 4,
 "nbformat_minor": 5
}
